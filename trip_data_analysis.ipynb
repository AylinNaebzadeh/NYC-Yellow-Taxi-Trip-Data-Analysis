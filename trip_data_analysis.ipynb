{
  "nbformat": 4,
  "nbformat_minor": 0,
  "metadata": {
    "colab": {
      "provenance": [],
      "collapsed_sections": [],
      "include_colab_link": true
    },
    "kernelspec": {
      "name": "python3",
      "display_name": "Python 3"
    },
    "language_info": {
      "name": "python"
    }
  },
  "cells": [
    {
      "cell_type": "markdown",
      "metadata": {
        "id": "view-in-github",
        "colab_type": "text"
      },
      "source": [
        "<a href=\"https://colab.research.google.com/github/AylinNaebzadeh/NYC-Yellow-Taxi-Trip-Data-Analysis/blob/main/trip_data_analysis.ipynb\" target=\"_parent\"><img src=\"https://colab.research.google.com/assets/colab-badge.svg\" alt=\"Open In Colab\"/></a>"
      ]
    },
    {
      "cell_type": "code",
      "source": [
        "#  pip install -U -q PyDrive --> for importing google drive in colab"
      ],
      "metadata": {
        "id": "m-FkoPX0Tr1N"
      },
      "execution_count": 1,
      "outputs": []
    },
    {
      "cell_type": "markdown",
      "source": [
        "# New Section"
      ],
      "metadata": {
        "id": "kV4DmGsX2zK-"
      }
    },
    {
      "cell_type": "code",
      "execution_count": 23,
      "metadata": {
        "id": "vlzI8I4a3zkV",
        "colab": {
          "base_uri": "https://localhost:8080/"
        },
        "outputId": "e70a9125-0598-4c92-9515-534fb1689c0f"
      },
      "outputs": [
        {
          "output_type": "stream",
          "name": "stdout",
          "text": [
            "1.0.2\n"
          ]
        }
      ],
      "source": [
        "from pydrive.auth import GoogleAuth\n",
        "from pydrive.drive import GoogleDrive\n",
        "from google.colab import files\n",
        "import numpy as np\n",
        "from google.colab import auth\n",
        "from oauth2client.client import GoogleCredentials\n",
        "import pandas as pd\n",
        "import matplotlib.pyplot as plt\n",
        "import seaborn as sns\n",
        "import datetime\n",
        "import sklearn\n",
        "from sklearn.preprocessing import LabelEncoder\n",
        "from scipy.stats import zscore\n",
        "from sklearn.cluster import KMeans\n",
        "from sklearn.model_selection import train_test_split\n",
        "from sklearn.preprocessing import StandardScaler\n",
        "from sklearn.tree import DecisionTreeClassifier\n",
        "from sklearn.metrics import accuracy_score\n",
        "from sklearn.metrics import confusion_matrix\n",
        "from sklearn.tree import export_graphviz \n",
        "from IPython.display import Image  \n",
        "from sklearn import tree\n",
        "import gdown\n",
        "from graphviz import Source\n",
        "from sklearn.tree import export_graphviz\n",
        "from sklearn.tree import plot_tree\n",
        "print(sklearn.__version__)"
      ]
    },
    {
      "cell_type": "code",
      "source": [
        "def delete_columns(df, del_columns):\n",
        "  for col in del_columns:\n",
        "    del df[col]\n",
        "  return df"
      ],
      "metadata": {
        "id": "Ex3t7zp1fLPm"
      },
      "execution_count": 3,
      "outputs": []
    },
    {
      "cell_type": "code",
      "source": [
        "def download_csv_file():\n",
        "  auth.authenticate_user()\n",
        "  gauth = GoogleAuth()\n",
        "  gauth.credentials = GoogleCredentials.get_application_default()\n",
        "  drive = GoogleDrive(gauth)\n",
        "  link = 'https://drive.google.com/open?id=1Gepus8IDhEiXBzk3U0aQGlwgw99SRdLx'\n",
        "  fluff, id = link.split('=')\n",
        "  downloaded = drive.CreateFile({'id':id}) \n",
        "  downloaded.GetContentFile('sample-nyc-data.csv')  \n"
      ],
      "metadata": {
        "id": "Xd7fQCkTJcPI"
      },
      "execution_count": 4,
      "outputs": []
    },
    {
      "cell_type": "code",
      "source": [
        "def create_histogram(df):\n",
        "  dataframe = df\n",
        "  del_columns = [\"tpep_pickup_datetime\", \"tpep_dropoff_datetime\",\n",
        "               \"pickup_longitude\", \"pickup_latitude\",\n",
        "               \"RatecodeID\", \"store_and_fwd_flag\",\n",
        "               \"dropoff_longitude\", \"dropoff_latitude\",\n",
        "               \"improvement_surcharge\", \"tolls_amount\",\n",
        "               \"tip_amount\", \"mta_tax\", \"extra\", \"pickup_date\", \"dropoff_date\", \"drop_month\", \"pick_month\"]\n",
        "  for col in dataframe.columns:\n",
        "    plt.hist(dataframe[col], edgecolor='white')\n",
        "    plt.xlabel(col)\n",
        "    plt.yscale(\"log\")\n",
        "    plt.show()"
      ],
      "metadata": {
        "id": "TZesLtwPjZX6"
      },
      "execution_count": 5,
      "outputs": []
    },
    {
      "cell_type": "code",
      "source": [
        "def calculate_min_max_var_avg(data):\n",
        "    stats = pd.DataFrame()\n",
        "    stats[\"min\"] = data.min()\n",
        "    stats[\"var\"] = data.var()\n",
        "    stats[\"avg\"] = data.mean()\n",
        "    stats[\"max\"] = data.max()\n",
        "    return stats"
      ],
      "metadata": {
        "id": "6tn6PGB2e6Z3"
      },
      "execution_count": 6,
      "outputs": []
    },
    {
      "cell_type": "code",
      "source": [
        "def convert_df_to_csv(df):\n",
        "  df.to_csv('extended_data.csv')"
      ],
      "metadata": {
        "id": "9S7lIOfDE3lw"
      },
      "execution_count": 7,
      "outputs": []
    },
    {
      "cell_type": "code",
      "source": [
        "def create_boxplot(data):\n",
        "  \"\"\"\n",
        "  find an outlier using IQR method and box plot in 1-dimensional data.\n",
        "  \"\"\"\n",
        "  new_data=data[['VendorID', 'passenger_count', 'trip_distance', 'payment_type',\n",
        "                 'fare_amount', 'trip_duration_min', 'speed', 'total_amount', 'tip_amount']]\n",
        "  for column in new_data:\n",
        "    plt.figure()\n",
        "    data.boxplot([column])"
      ],
      "metadata": {
        "id": "gpr0u0P0cQyA"
      },
      "execution_count": 8,
      "outputs": []
    },
    {
      "cell_type": "code",
      "source": [
        "def normalize_min_max(df):\n",
        "  cols = []\n",
        "  del_columns = [\n",
        "                \"tpep_pickup_datetime\", \"tpep_dropoff_datetime\",\n",
        "                \"pickup_longitude\", \"pickup_latitude\",\n",
        "                \"RatecodeID\", \"store_and_fwd_flag\",\n",
        "                \"dropoff_longitude\", \"dropoff_latitude\",\n",
        "                \"improvement_surcharge\",\n",
        "                \"mta_tax\",  \"pickup_date\",\n",
        "                \"dropoff_date\", \"drop_month\",\n",
        "                \"pick_month\"]\n",
        "  df = delete_columns(df, del_columns)\n",
        "  for col in df.columns:\n",
        "    max = df[col].loc[df[col].idxmax()]     \n",
        "    min = df[col].loc[df[col].idxmin()]\n",
        "    normalized_col=(df[col] - min)/(max-min)\n",
        "    df[str(col) + \"_normalized\"] = normalized_col \n",
        "    cols.append(str(col) + \"_normalized\")\n",
        "  df2 = df[cols]\n",
        "  return df2"
      ],
      "metadata": {
        "id": "sP8Ed6azbl_e"
      },
      "execution_count": 9,
      "outputs": []
    },
    {
      "cell_type": "code",
      "source": [
        "def clustering(df, df2):\n",
        "  # ok columns with clustering: 'speed', 'total_amount', 'trip_distance', 'tip_amount', 'fare_amount'\n",
        "  columns = ['speed_normalized', 'total_amount_normalized',\n",
        "             'trip_distance_normalized', 'tip_amount_normalized',\n",
        "             'fare_amount_normalized', 'passenger_count_normalized',\n",
        "             'trip_duration_min_normalized']\n",
        "  df2=df2[columns]\n",
        "  # elbow_k_means(df2)\n",
        "  kmeans = KMeans(n_clusters=4, init='k-means++', random_state=42).fit(df2)\n",
        "  centroids = kmeans.cluster_centers_\n",
        "  df = df.assign(cluster=kmeans.labels_)\n",
        "\n",
        "  #for 3d\n",
        "  # fig = plt.figure(figsize=(12, 12))\n",
        "  # ax = fig.add_subplot(projection='3d')\n",
        "  # ax.scatter(df['trip_distance'], df['tip_amount'], df['passenger_count'], marker=\"s\", c=df[\"cluster\"], s=40, cmap=\"RdBu\")\n",
        "\n",
        "  # print(\"x: trip_distance, y: tip_amount\")\n",
        "  # plt.scatter(df['trip_distance'], df['tip_amount'], c= kmeans.labels_.astype(float), s=50, alpha=0.5)\n",
        "  # plt.scatter(centroids[:, 0], centroids[:, 1], c='red', s=50)\n",
        "  # plt.show()\n",
        "\n",
        "  # print(\"x: speed, y: tip_amount\")\n",
        "  # plt.scatter(df['speed'], df['tip_amount'], c= kmeans.labels_.astype(float), s=50, alpha=0.5)\n",
        "  # plt.scatter(centroids[:, 0], centroids[:, 1], c='red', s=50)\n",
        "  # plt.show()\n",
        "\n",
        "  # print(\"x: total_amount, y: tip_amount\")\n",
        "  # plt.scatter(df['total_amount'], df['tip_amount'], c= kmeans.labels_.astype(float), s=50, alpha=0.5)\n",
        "  # plt.scatter(centroids[:, 0], centroids[:, 1], c='red', s=50)\n",
        "  # plt.show()\n",
        "\n",
        "  # print(\"x: speed, y: trip_distance\")\n",
        "  # plt.scatter(df['speed'], df['trip_distance'], c= kmeans.labels_.astype(float), s=50, alpha=0.5)\n",
        "  # plt.scatter(centroids[:, 0], centroids[:, 1], c='red', s=50)\n",
        "  # plt.show()\n",
        "\n",
        "  # print(\"x: speed, y: trip_duration_min\")\n",
        "  # plt.scatter(df['speed'], df['trip_duration_min'], c= kmeans.labels_.astype(float), s=50, alpha=0.5)\n",
        "  # plt.scatter(centroids[:, 0], centroids[:, 1], c='red', s=50)\n",
        "  # # plt.show()\n",
        "\n",
        "\n",
        "  # print(\"x: passenger_count, y: trip_distance\")\n",
        "  # plt.scatter(df['passenger_count'], df['trip_distance'], c= kmeans.labels_.astype(float), s=50, alpha=0.5)\n",
        "  # plt.scatter(centroids[:, 0], centroids[:, 1], c='red', s=50)\n",
        "  # plt.show()\n",
        "\n",
        "  return df"
      ],
      "metadata": {
        "id": "oY4s0RAOv_eT"
      },
      "execution_count": 10,
      "outputs": []
    },
    {
      "cell_type": "code",
      "source": [
        "def elbow_k_means(df):\n",
        "  wcss = []\n",
        "  for i in range(1, 11):\n",
        "    clustering = KMeans(n_clusters=i, init='k-means++', random_state=42)\n",
        "    clustering.fit(df)\n",
        "    wcss.append(clustering.inertia_)\n",
        "  \n",
        "  ks = [1, 2, 3, 4, 5, 6, 7, 8, 9, 10]\n",
        "  sns.lineplot(x = ks, y = wcss);\n"
      ],
      "metadata": {
        "id": "8NLFGjQiqago"
      },
      "execution_count": 11,
      "outputs": []
    },
    {
      "cell_type": "code",
      "source": [
        "def create_correlation_matrix(data_df):\n",
        "  new_data=data_df[['VendorID', 'passenger_count', 'RatecodeID', 'trip_distance', 'payment_type',\n",
        "                 'fare_amount', 'trip_duration_hour', 'speed', 'total_amount', 'tip_amount']]\n",
        "\n",
        "  label_encoder = LabelEncoder()\n",
        "  data = new_data\n",
        "  for i in range(len(data.columns)):\n",
        "      column = new_data.columns[i]\n",
        "      data[column] = label_encoder.fit_transform(new_data[column])\n",
        "      print(f\" dataframe {column} uniques: {len(data[column].unique())} \")\n",
        "\n",
        "  x = data\n",
        "  cor = x.corr().round(2)\n",
        "  plt.figure(figsize=(10,8),linewidth=10,edgecolor=\"#04253a\" )\n",
        "  sns.heatmap(cor, annot=True, cmap=\"Blues\")\n",
        "  plt.show()"
      ],
      "metadata": {
        "id": "87fbu1IOcXlP"
      },
      "execution_count": 12,
      "outputs": []
    },
    {
      "cell_type": "code",
      "source": [
        "def calculate_Zscore(df):\n",
        "  columns = list(df.columns)\n",
        "  del_columns = [\"tpep_pickup_datetime\", \"tpep_dropoff_datetime\",\n",
        "                 \"pickup_longitude\", \"pickup_latitude\",\n",
        "                 \"RatecodeID\", \"store_and_fwd_flag\",\n",
        "                 \"dropoff_longitude\", \"dropoff_latitude\",\n",
        "                 \"improvement_surcharge\", \"tolls_amount\",\n",
        "                 \"tip_amount\", \"mta_tax\", \"extra\", \"pickup_date\", \"dropoff_date\", \"drop_month\", \"pick_month\"]\n",
        "  columns = [col for col in columns if col not in del_columns]\n",
        "  for col in columns:\n",
        "    col_zscore = col + '_zscore'\n",
        "    df[col_zscore] = (df[col] - df[col].mean())/df[col].std(ddof=0)\n",
        "  return df"
      ],
      "metadata": {
        "id": "68SablKTrP0d"
      },
      "execution_count": 13,
      "outputs": []
    },
    {
      "cell_type": "code",
      "source": [
        "def calculate_BoxWhiskerScore(df):\n",
        "  columns = list(df.columns)\n",
        "  del_columns = [\"tpep_pickup_datetime\", \"tpep_dropoff_datetime\",\n",
        "                 \"pickup_longitude\", \"pickup_latitude\",\n",
        "                 \"RatecodeID\", \"store_and_fwd_flag\",\n",
        "                 \"dropoff_longitude\", \"dropoff_latitude\",\n",
        "                 \"improvement_surcharge\", \"tolls_amount\",\n",
        "                 \"tip_amount\", \"mta_tax\", \"extra\", \"pickup_date\", \"dropoff_date\", \"drop_month\", \"pick_month\",'payment_type']\n",
        "  columns = [col for col in columns if col not in del_columns]\n",
        "  for col in columns:\n",
        "    if \"_zscore\" not in col:\n",
        "      col_boxwhiskerscore = col + '_boxwhiskerscore'\n",
        "      Q1 = np.percentile(df[col], 25, interpolation = 'midpoint')\n",
        "      Q3 = np.percentile(df[col], 75, interpolation = 'midpoint')\n",
        "      IQR = Q3 - Q1\n",
        "      upper_bound = Q3+1.5*IQR\n",
        "      df[col_boxwhiskerscore] = df[col]/upper_bound\n",
        "  return df "
      ],
      "metadata": {
        "id": "WWTnxIZ66KPD"
      },
      "execution_count": 14,
      "outputs": []
    },
    {
      "cell_type": "code",
      "source": [
        "def del_missing_value(df):\n",
        "    total = df.isnull().sum().sort_values(ascending=False)\n",
        "    percent = df.isnull().sum()/df.isnull().count().sort_values(ascending=False)\n",
        "    missing_data = pd.concat([total, percent], axis=1, keys=['Total', 'Percent'])\n",
        "    # f, ax = plt.subplots(figsize=(15, 6))\n",
        "    # plt.xticks(rotation='90')\n",
        "    # sns.barplot(x=missing_data.index, y=missing_data['Percent'])\n",
        "    # plt.xlabel('df', fontsize=15)\n",
        "    # plt.ylabel('Percent of missing values', fontsize=15)\n",
        "    # plt.title('Percent missing data by feature', fontsize=15)\n",
        "    # missing_data"
      ],
      "metadata": {
        "id": "4Z-0x7Py7mMC"
      },
      "execution_count": 15,
      "outputs": []
    },
    {
      "cell_type": "code",
      "source": [
        "def pre_processing(df):\n",
        "  df.drop_duplicates(inplace=True)\n",
        "  del_missing_value(df)\n",
        "  # Deleting data manually\n",
        "  # df = df[df[\"speed\"] < 200]\n",
        "  df = df[df[\"speed\"] != 0]\n",
        "  # Calculate Z-Score and BoxWhisker-Score\n",
        "  df = calculate_Zscore(df)\n",
        "  df = calculate_BoxWhiskerScore(df)\n",
        "  # Deleting data accoriding to Z-Score\n",
        "  print(\"Before Z-Scoer: \", df.shape)\n",
        "  for col in df.columns:\n",
        "    try:\n",
        "      df = df[df[col + \"_zscore\"] < 4]\n",
        "      df = df[df[col + \"_zscore\"] > -4]\n",
        "    except:\n",
        "      pass\n",
        "  print(\"After Z-Scoer: \", df.shape)\n",
        "  df = df[df[\"trip_duration_min\"] < 200]\n",
        "  print(\"Deleting manually duration: \", df.shape)\n",
        "  df = df[df[\"speed\"] < 200]\n",
        "  print(\"Deleting manually speed: \", df.shape)\n",
        "  # Deleting data accoriding to BoxWhisker-Score\n",
        "  # for col in df.columns:\n",
        "  #   df = df[df[col + \"_boxwhiskerscore\"] > 4]\n",
        "  # print(\"After BoxWhisker-Score: \", df.shape)\n",
        "  # print(df.shape)\n",
        "\n",
        "  return df"
      ],
      "metadata": {
        "id": "3486XW0C4Sim"
      },
      "execution_count": 16,
      "outputs": []
    },
    {
      "cell_type": "code",
      "source": [
        "def add_features(df):\n",
        "  # Adding new parameters\n",
        "  df[\"tpep_pickup_datetime\"] = pd.to_datetime(df[\"tpep_pickup_datetime\"])\n",
        "  df[\"tpep_dropoff_datetime\"] = pd.to_datetime(df[\"tpep_dropoff_datetime\"])\n",
        "  df[\"pickup_date\"] = df[\"tpep_pickup_datetime\"].dt.date \n",
        "  df[\"dropoff_date\"] = df[\"tpep_dropoff_datetime\"].dt.date\n",
        "  df[\"pick_month\"] = pd.DatetimeIndex(df['tpep_pickup_datetime']).month\n",
        "  df[\"drop_month\"] = pd.DatetimeIndex(df['tpep_dropoff_datetime']).month\n",
        "  df[\"trip_duration_hour\"] = (df[\"tpep_dropoff_datetime\"] - df[\"tpep_pickup_datetime\"]).dt.total_seconds() / 3600\n",
        "  df[\"trip_duration_min\"] = (df[\"tpep_dropoff_datetime\"] - df[\"tpep_pickup_datetime\"]).dt.total_seconds() / 60\n",
        "  # Deleting Durations\n",
        "  df2 = df[~df[\"trip_duration_min\"].isin([0])]\n",
        "  # df = df[df[\"trip_duration_min\"] < 180]\n",
        "  # df = df[df[\"trip_duration_min\"] != 0]\n",
        "  df2[\"speed\"] = df2[\"trip_distance\"] * 1.6093435 / df2[\"trip_duration_hour\"]\n",
        "  pd.set_option('display.max_rows', None)\n",
        "  # BoxWhiskerScore and Z-Score\n",
        "  calculate_Zscore(df)\n",
        "  calculate_BoxWhiskerScore(df)\n",
        "  return df2"
      ],
      "metadata": {
        "id": "sNPlGkAJEyXS"
      },
      "execution_count": 17,
      "outputs": []
    },
    {
      "cell_type": "code",
      "source": [
        "def count_payment_types_per_group(data):\n",
        "  new_df =  data.groupby('payment_type').size().reset_index(name='count')\n",
        "  return new_df"
      ],
      "metadata": {
        "id": "mn0SOdwv-dZG"
      },
      "execution_count": 18,
      "outputs": []
    },
    {
      "cell_type": "code",
      "source": [
        "def decision_tree(data):\n",
        "  X = data.drop(['VendorID', 'VendorID_zscore', 'VendorID_boxwhiskerscore', 'VendorID_normalized',\n",
        "                 'VendorID_zscore_normalized', 'VendorID_boxwhiskerscore_normalized', 'cluster'], axis=1)\n",
        "  y = data['cluster']\n",
        "\n",
        "  X_train, X_test, y_train, y_test =  train_test_split(X, y, test_size = 0.25, random_state= 0)\n",
        "\n",
        "  sc_X = StandardScaler()\n",
        "  X_train = sc_X.fit_transform(X_train)\n",
        "  X_test = sc_X.transform(X_test)\n",
        "\n",
        "  plt.figure()\n",
        "  classifier = DecisionTreeClassifier().fit(X_train, y_train)\n",
        "  plot_tree(classifier, filled=True)\n",
        "  plt.title(\"Decision tree trained on all the NYC Taxi Trips features\")\n",
        "  plt.savefig('decision_tree.png', bbox_inches='tight')\n",
        "  plt.show()\n",
        "  #  Prediction\n",
        "  y_pred = classifier.predict(X_test) #Accuracy\n",
        "  print('Accuracy Score:', accuracy_score(y_test,y_pred))\n",
        "\n",
        "  #  Confusion Matrix\n",
        "  cm = confusion_matrix(y_test, y_pred)\n",
        "  print('Confusion Matrix: ', cm)\n",
        "\n",
        "  # visualization\n",
        "  # export_graphviz(\n",
        "  #       classifier,\n",
        "  #       out_file=\"tree.dot\",\n",
        "  #       feature_names = classifier.feature_names_in_,\n",
        "  #       class_names=['cluster'],\n",
        "  #       rounded=True,\n",
        "  #       filled=True\n",
        "  #   )\n",
        "  \n",
        "  # view = Source.from_file(\"tree.dot\")\n",
        "  # view.render('tree', format='jpg',view=True)\n",
        "  # view.view()\n",
        "  \n",
        "  \n",
        "  \n",
        "\n"
      ],
      "metadata": {
        "id": "4SD20PnVa62-"
      },
      "execution_count": 26,
      "outputs": []
    },
    {
      "cell_type": "code",
      "source": [
        "def main():\n",
        "  download_csv_file()\n",
        "  df = pd.read_csv('sample-nyc-data.csv', low_memory=False) # bad practice !!!!!!!!!!!!!!!!!!!\n",
        "  new_df = count_payment_types_per_group(df)\n",
        "  print(new_df)\n",
        "  \n",
        "  df = add_features(df)\n",
        "  # convert_df_to_csv(df)\n",
        "  df = pre_processing(df)\n",
        "  df.to_csv('pre_proccessed.csv')\n",
        "  # files.download(\"pre_proccessed.csv\")\n",
        "\n",
        "  # create_correlation_matrix(df)\n",
        "\n",
        "\n",
        "  # clustering start\n",
        "  df2 = normalize_min_max(df)\n",
        "  df = clustering(df, df2)\n",
        "  # df.to_csv(\"clustering.csv\", encoding = 'utf-8-sig')\n",
        "  # files.download(\"clustering.csv\")\n",
        "  if 'cluster' in df.columns:\n",
        "    print(\"Cluster column exists\")\n",
        "  print(df.keys)\n",
        "  # clustering end\n",
        "\n",
        "  decision_tree(df)\n",
        "  "
      ],
      "metadata": {
        "id": "RKvICFznIo0f"
      },
      "execution_count": 27,
      "outputs": []
    },
    {
      "cell_type": "code",
      "source": [
        "main()"
      ],
      "metadata": {
        "id": "xEheQLG-I3sf",
        "colab": {
          "base_uri": "https://localhost:8080/",
          "height": 1000
        },
        "outputId": "508dd152-a0b3-497a-cc2f-c7760d55083d"
      },
      "execution_count": 28,
      "outputs": [
        {
          "output_type": "stream",
          "name": "stdout",
          "text": [
            "   payment_type  count\n",
            "0           1.0  60035\n",
            "1           1.3      1\n",
            "2           2.0  29553\n",
            "3           2.2      1\n",
            "4           3.0    300\n",
            "5           4.0    112\n"
          ]
        },
        {
          "output_type": "stream",
          "name": "stderr",
          "text": [
            "/usr/local/lib/python3.7/dist-packages/ipykernel_launcher.py:15: SettingWithCopyWarning: \n",
            "A value is trying to be set on a copy of a slice from a DataFrame.\n",
            "Try using .loc[row_indexer,col_indexer] = value instead\n",
            "\n",
            "See the caveats in the documentation: https://pandas.pydata.org/pandas-docs/stable/user_guide/indexing.html#returning-a-view-versus-a-copy\n",
            "  from ipykernel import kernelapp as app\n",
            "/usr/local/lib/python3.7/dist-packages/ipykernel_launcher.py:12: SettingWithCopyWarning: \n",
            "A value is trying to be set on a copy of a slice from a DataFrame.\n",
            "Try using .loc[row_indexer,col_indexer] = value instead\n",
            "\n",
            "See the caveats in the documentation: https://pandas.pydata.org/pandas-docs/stable/user_guide/indexing.html#returning-a-view-versus-a-copy\n",
            "  if sys.path[0] == '':\n",
            "/usr/local/lib/python3.7/dist-packages/ipykernel_launcher.py:17: SettingWithCopyWarning: \n",
            "A value is trying to be set on a copy of a slice from a DataFrame.\n",
            "Try using .loc[row_indexer,col_indexer] = value instead\n",
            "\n",
            "See the caveats in the documentation: https://pandas.pydata.org/pandas-docs/stable/user_guide/indexing.html#returning-a-view-versus-a-copy\n"
          ]
        },
        {
          "output_type": "stream",
          "name": "stdout",
          "text": [
            "Before Z-Scoer:  (89418, 43)\n",
            "After Z-Scoer:  (87335, 43)\n",
            "Deleting manually duration:  (87335, 43)\n",
            "Deleting manually speed:  (87322, 43)\n",
            "Cluster column exists\n"
          ]
        },
        {
          "output_type": "stream",
          "name": "stderr",
          "text": [
            "IOPub data rate exceeded.\n",
            "The notebook server will temporarily stop sending output\n",
            "to the client in order to avoid crashing it.\n",
            "To change this limit, set the config variable\n",
            "`--NotebookApp.iopub_data_rate_limit`.\n",
            "\n",
            "Current values:\n",
            "NotebookApp.iopub_data_rate_limit=1000000.0 (bytes/sec)\n",
            "NotebookApp.rate_limit_window=3.0 (secs)\n",
            "\n"
          ]
        },
        {
          "output_type": "display_data",
          "data": {
            "text/plain": [
              "<Figure size 432x288 with 1 Axes>"
            ],
            "image/png": "[encoded data removed]"
          },
          "metadata": {
            "needs_background": "light"
          }
        },
        {
          "output_type": "stream",
          "name": "stdout",
          "text": [
            "Accuracy Score: 0.996198066968989\n",
            "Confusion Matrix:  [[ 4391     0    25    20]\n",
            " [    1  2930     0     6]\n",
            " [   16     0 13134     0]\n",
            " [   10     5     0  1293]]\n"
          ]
        }
      ]
    }
  ]
}