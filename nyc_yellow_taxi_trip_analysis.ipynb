{
  "nbformat": 4,
  "nbformat_minor": 0,
  "metadata": {
    "colab": {
      "provenance": [],
      "collapsed_sections": [],
      "include_colab_link": true
    },
    "kernelspec": {
      "name": "python3",
      "display_name": "Python 3"
    },
    "language_info": {
      "name": "python"
    }
  },
  "cells": [
    {
      "cell_type": "markdown",
      "metadata": {
        "id": "view-in-github",
        "colab_type": "text"
      },
      "source": [
        "<a href=\"https://colab.research.google.com/github/AylinNaebzadeh/NYC-Yellow-Taxi-Trip-Data-Analysis/blob/main/nyc_yellow_taxi_trip_analysis.ipynb\" target=\"_parent\"><img src=\"https://colab.research.google.com/assets/colab-badge.svg\" alt=\"Open In Colab\"/></a>"
      ]
    },
    {
      "cell_type": "code",
      "source": [
        "#  pip install -U -q PyDrive --> for importing google drive in colab"
      ],
      "metadata": {
        "id": "m-FkoPX0Tr1N"
      },
      "execution_count": null,
      "outputs": []
    },
    {
      "cell_type": "markdown",
      "source": [
        "# New Section"
      ],
      "metadata": {
        "id": "kV4DmGsX2zK-"
      }
    },
    {
      "cell_type": "code",
      "execution_count": null,
      "metadata": {
        "id": "vlzI8I4a3zkV"
      },
      "outputs": [],
      "source": [
        "from pydrive.auth import GoogleAuth\n",
        "from pydrive.drive import GoogleDrive\n",
        "import numpy as np\n",
        "from google.colab import auth\n",
        "from oauth2client.client import GoogleCredentials\n",
        "import pandas as pd\n",
        "import matplotlib.pyplot as plt\n",
        "import seaborn as sns\n",
        "import datetime\n",
        "from sklearn.preprocessing import LabelEncoder\n",
        "from scipy.stats import zscore"
      ]
    },
    {
      "cell_type": "code",
      "source": [
        "def download_csv_file():\n",
        "  auth.authenticate_user()\n",
        "  gauth = GoogleAuth()\n",
        "  gauth.credentials = GoogleCredentials.get_application_default()\n",
        "  drive = GoogleDrive(gauth)\n",
        "  link = 'https://drive.google.com/open?id=1Gepus8IDhEiXBzk3U0aQGlwgw99SRdLx'\n",
        "  fluff, id = link.split('=')\n",
        "  downloaded = drive.CreateFile({'id':id}) \n",
        "  downloaded.GetContentFile('sample-nyc-data.csv')  \n"
      ],
      "metadata": {
        "id": "Xd7fQCkTJcPI"
      },
      "execution_count": null,
      "outputs": []
    },
    {
      "cell_type": "code",
      "source": [
        "# def normalize_min_max(df):\n",
        "    # max = df[col].loc[df[col].idxmax()]     \n",
        "    # min = df[col].loc[df[col].idxmin()] \n",
        "    # normalized_col=(df[col] - min)/(max-min)"
      ],
      "metadata": {
        "id": "sP8Ed6azbl_e"
      },
      "execution_count": null,
      "outputs": []
    },
    {
      "cell_type": "code",
      "source": [
        "def create_histogram(df):\n",
        "  dataframe = df\n",
        "  del_columns = [\"tpep_pickup_datetime\", \"tpep_dropoff_datetime\",\n",
        "               \"pickup_longitude\", \"pickup_latitude\",\n",
        "               \"RatecodeID\", \"store_and_fwd_flag\",\n",
        "               \"dropoff_longitude\", \"dropoff_latitude\",\n",
        "               \"improvement_surcharge\", \"tolls_amount\",\n",
        "               \"tip_amount\", \"mta_tax\", \"extra\", \"pickup_date\", \"dropoff_date\", \"drop_month\", \"pick_month\"]\n",
        "  for col in del_columns:\n",
        "    del dataframe[col]\n",
        "  for col in dataframe.columns:\n",
        "    plt.hist(dataframe[col], edgecolor='white')\n",
        "    plt.xlabel(col)\n",
        "    plt.yscale(\"log\")\n",
        "    plt.show()"
      ],
      "metadata": {
        "id": "TZesLtwPjZX6"
      },
      "execution_count": null,
      "outputs": []
    },
    {
      "cell_type": "code",
      "source": [
        "def del_missing_value(df):\n",
        "    total = df.isnull().sum().sort_values(ascending=False)\n",
        "    percent = df.isnull().sum()/df.isnull().count().sort_values(ascending=False)\n",
        "    missing_data = pd.concat([total, percent], axis=1, keys=['Total', 'Percent'])\n",
        "    f, ax = plt.subplots(figsize=(15, 6))\n",
        "    plt.xticks(rotation='90')\n",
        "    sns.barplot(x=missing_data.index, y=missing_data['Percent'])\n",
        "    plt.xlabel('df', fontsize=15)\n",
        "    plt.ylabel('Percent of missing values', fontsize=15)\n",
        "    plt.title('Percent missing data by feature', fontsize=15)\n",
        "    missing_data"
      ],
      "metadata": {
        "id": "4Z-0x7Py7mMC"
      },
      "execution_count": null,
      "outputs": []
    },
    {
      "cell_type": "code",
      "source": [
        "def pre_processing(df):\n",
        "  df.drop_duplicates(inplace=True)\n",
        "  del_missing_value(df)\n",
        "  return df"
      ],
      "metadata": {
        "id": "3486XW0C4Sim"
      },
      "execution_count": null,
      "outputs": []
    },
    {
      "cell_type": "code",
      "source": [
        "def add_features(df):\n",
        "  df[\"tpep_pickup_datetime\"] = pd.to_datetime(df[\"tpep_pickup_datetime\"])\n",
        "  df[\"tpep_dropoff_datetime\"] = pd.to_datetime(df[\"tpep_dropoff_datetime\"])\n",
        "  df[\"pickup_date\"] = df[\"tpep_pickup_datetime\"].dt.date \n",
        "  df[\"dropoff_date\"] = df[\"tpep_dropoff_datetime\"].dt.date\n",
        "  df[\"pick_month\"] = pd.DatetimeIndex(df['tpep_pickup_datetime']).month\n",
        "  df[\"drop_month\"] = pd.DatetimeIndex(df['tpep_dropoff_datetime']).month\n",
        "  df[\"trip_duration_hour\"] = (df[\"tpep_dropoff_datetime\"] - df[\"tpep_pickup_datetime\"]).dt.total_seconds() / 3600\n",
        "  df[\"trip_duration_min\"] = (df[\"tpep_dropoff_datetime\"] - df[\"tpep_pickup_datetime\"]).dt.total_seconds() / 60\n",
        "  df2 = df[~df[\"trip_duration_min\"].isin([0])]\n",
        "  df2[\"speed\"] = df2[\"trip_distance\"] * 1.6093435 / df2[\"trip_duration_hour\"]\n",
        "  pd.set_option('display.max_rows', None)\n",
        "\n",
        "  df2 = df2[df2[\"speed\"] < 200]\n",
        "  # df2 = df2[df2[\"trip_duration_min\"] < 120]\n",
        "\n",
        "  counter = 0\n",
        "  # for item in df2.iterrows():\n",
        "  #   if item[1]['trip_duration_min'] > 120:\n",
        "  #     print(counter, item[1]['trip_duration_min'])\n",
        "  #     counter += 1\n",
        "  #     print(\"----------------\")\n",
        "  return df2"
      ],
      "metadata": {
        "id": "sNPlGkAJEyXS"
      },
      "execution_count": null,
      "outputs": []
    },
    {
      "cell_type": "code",
      "source": [
        "def calculate_min_max_var_avg(data):\n",
        "    stats = pd.DataFrame()\n",
        "    stats[\"min\"] = data.min()\n",
        "    stats[\"var\"] = data.var()\n",
        "    stats[\"avg\"] = data.mean()\n",
        "    stats[\"max\"] = data.max()\n",
        "    return stats"
      ],
      "metadata": {
        "id": "6tn6PGB2e6Z3"
      },
      "execution_count": null,
      "outputs": []
    },
    {
      "cell_type": "code",
      "source": [
        "def convert_df_to_csv(df):\n",
        "  df.to_csv('extended_data.csv')"
      ],
      "metadata": {
        "id": "9S7lIOfDE3lw"
      },
      "execution_count": null,
      "outputs": []
    },
    {
      "cell_type": "code",
      "source": [
        "def create_boxplot(data):\n",
        "  \"\"\"\n",
        "  find an outlier using IQR method and box plot in 1-dimensional data.\n",
        "  \"\"\"\n",
        "  new_data=data[['VendorID', 'passenger_count', 'trip_distance', 'payment_type',\n",
        "                 'fare_amount', 'trip_duration_min', 'speed', 'total_amount', 'tip_amount']]\n",
        "  for column in new_data:\n",
        "    plt.figure()\n",
        "    data.boxplot([column])"
      ],
      "metadata": {
        "id": "gpr0u0P0cQyA"
      },
      "execution_count": null,
      "outputs": []
    },
    {
      "cell_type": "code",
      "source": [
        "def create_correlation_matrix(data_df):\n",
        "  new_data=data_df[['VendorID', 'passenger_count', 'RatecodeID', 'trip_distance', 'payment_type',\n",
        "                 'fare_amount', 'trip_duration_hour', 'speed', 'total_amount', 'tip_amount']]\n",
        "\n",
        "  label_encoder = LabelEncoder()\n",
        "  data = new_data\n",
        "  for i in range(len(data.columns)):\n",
        "      column = new_data.columns[i]\n",
        "      data[column] = label_encoder.fit_transform(new_data[column])\n",
        "      print(f\" dataframe {column} uniques: {len(data[column].unique())} \")\n",
        "\n",
        "  x = data\n",
        "  cor = x.corr().round(2)\n",
        "  plt.figure(figsize=(10,8),linewidth=10,edgecolor=\"#04253a\" )\n",
        "  sns.heatmap(cor, annot=True, cmap=\"Blues\")\n",
        "  plt.show()"
      ],
      "metadata": {
        "id": "87fbu1IOcXlP"
      },
      "execution_count": null,
      "outputs": []
    },
    {
      "cell_type": "code",
      "source": [
        "def calculate_Zscore(data):\n",
        "  columns = list(data.columns)\n",
        "  del_columns = [\"VendorID\", \"tpep_pickup_datetime\", \"tpep_dropoff_datetime\",\n",
        "                 \"pickup_longitude\", \"pickup_latitude\",\n",
        "                 \"RatecodeID\", \"store_and_fwd_flag\",\n",
        "                 \"dropoff_longitude\", \"dropoff_latitude\",\n",
        "                 \"improvement_surcharge\", \"tolls_amount\",\n",
        "                 \"tip_amount\", \"mta_tax\", \"extra\", \"pickup_date\", \"dropoff_date\", \"drop_month\", \"pick_month\"]\n",
        "  columns = [col for col in columns if col not in del_columns]\n",
        "  for col in columns:\n",
        "    col_zscore = col + '_zscore'\n",
        "    data[col_zscore] = (data[col] - data[col].mean())/data[col].std(ddof=0)\n",
        "  return data"
      ],
      "metadata": {
        "id": "68SablKTrP0d"
      },
      "execution_count": null,
      "outputs": []
    },
    {
      "cell_type": "code",
      "source": [
        "def calculate_BoxWhiskerScore(data):\n",
        "  columns = list(data.columns)\n",
        "  del_columns = [\"tpep_pickup_datetime\", \"tpep_dropoff_datetime\",\n",
        "                 \"pickup_longitude\", \"pickup_latitude\",\n",
        "                 \"RatecodeID\", \"store_and_fwd_flag\",\n",
        "                 \"dropoff_longitude\", \"dropoff_latitude\",\n",
        "                 \"improvement_surcharge\", \"tolls_amount\",\n",
        "                 \"tip_amount\", \"mta_tax\", \"extra\", \"pickup_date\", \"dropoff_date\", \"drop_month\", \"pick_month\"]\n",
        "  columns = [col for col in columns if col not in del_columns]\n",
        "  for col in columns:\n",
        "    col_zscore = col + '_zscore'\n",
        "    data[col_zscore] = (data[col] - data[col].mean())/data[col].std(ddof=0)\n",
        "  return data "
      ],
      "metadata": {
        "id": "WWTnxIZ66KPD"
      },
      "execution_count": null,
      "outputs": []
    },
    {
      "cell_type": "code",
      "source": [
        "def main():\n",
        "  download_csv_file()\n",
        "  df = pd.read_csv('sample-nyc-data.csv', low_memory=False)\n",
        "  # print(df.describe())\n",
        "  # pre_processing(df)\n",
        "  df = add_features(df)\n",
        "  convert_df_to_csv(df)\n",
        "  # print(df.shape)\n",
        "  filtered_df = df[df[\"trip_duration_min\"] != 0]\n",
        "  # create_histogram(filtered_df)\n",
        "  # stats = calculate_min_max_var_avg(filtered_df)\n",
        "  # stats.to_csv('min_max_avg_var.csv')\n",
        "  # create_boxplot(filtered_df)\n",
        "  # create_correlation_matrix(filtered_df)\n",
        "  # calculate_Zscore(filtered_df)\n",
        "  # filtered_df.to_csv('extended_data_with_Zscore.csv')\n",
        "  calculate_BoxWhiskerScore(filtered_df)\n",
        "  filtered_df.to_csv('extended_data_with_BoxWhiskerScore.csv')\n",
        "  "
      ],
      "metadata": {
        "id": "RKvICFznIo0f"
      },
      "execution_count": null,
      "outputs": []
    },
    {
      "cell_type": "code",
      "source": [
        "main()"
      ],
      "metadata": {
        "id": "xEheQLG-I3sf",
        "colab": {
          "base_uri": "https://localhost:8080/"
        },
        "outputId": "f1d386e1-7089-4a83-88d0-c7749ee2d029"
      },
      "execution_count": null,
      "outputs": [
        {
          "output_type": "stream",
          "name": "stderr",
          "text": [
            "/usr/local/lib/python3.7/dist-packages/ipykernel_launcher.py:11: SettingWithCopyWarning: \n",
            "A value is trying to be set on a copy of a slice from a DataFrame.\n",
            "Try using .loc[row_indexer,col_indexer] = value instead\n",
            "\n",
            "See the caveats in the documentation: https://pandas.pydata.org/pandas-docs/stable/user_guide/indexing.html#returning-a-view-versus-a-copy\n",
            "  # This is added back by InteractiveShellApp.init_path()\n"
          ]
        }
      ]
    }
  ]
}